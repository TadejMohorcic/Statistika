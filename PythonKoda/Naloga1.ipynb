{
 "cells": [
  {
   "cell_type": "code",
   "execution_count": 1,
   "metadata": {},
   "outputs": [],
   "source": [
    "import pandas as pd\n",
    "import math\n",
    "from random import seed, randint\n",
    "import matplotlib.pyplot as plt"
   ]
  },
  {
   "cell_type": "code",
   "execution_count": 2,
   "metadata": {},
   "outputs": [],
   "source": [
    "Kibergrad = pd.read_csv(\"../Podatki/Kibergrad.csv\") # preberem podatke in jih shranim, nato pa še preimenujem stolpce za lažje delo v naprej."
   ]
  },
  {
   "cell_type": "code",
   "execution_count": 3,
   "metadata": {},
   "outputs": [],
   "source": [
    "Kibergrad.rename(columns={\"'TIP'\": \"Tip\", \"'CLANOV'\": \"Clanov\", \"'OTROK'\": \"Otrok\", \"'DOHODEK'\": \"Dohodek\", \"'CETRT'\": \"Cetrt\", \"'IZOBRAZBA'\": \"Izobrazba\"}, inplace = True)"
   ]
  },
  {
   "cell_type": "code",
   "execution_count": 4,
   "metadata": {},
   "outputs": [],
   "source": [
    "Kibergrad[\"Brez Izobrazbe\"] = Kibergrad[\"Izobrazba\"].apply(lambda x: 1 if x < 39 else 0)"
   ]
  },
  {
   "cell_type": "code",
   "execution_count": 5,
   "metadata": {},
   "outputs": [
    {
     "data": {
      "text/html": [
       "<div>\n",
       "<style scoped>\n",
       "    .dataframe tbody tr th:only-of-type {\n",
       "        vertical-align: middle;\n",
       "    }\n",
       "\n",
       "    .dataframe tbody tr th {\n",
       "        vertical-align: top;\n",
       "    }\n",
       "\n",
       "    .dataframe thead th {\n",
       "        text-align: right;\n",
       "    }\n",
       "</style>\n",
       "<table border=\"1\" class=\"dataframe\">\n",
       "  <thead>\n",
       "    <tr style=\"text-align: right;\">\n",
       "      <th></th>\n",
       "      <th>Tip</th>\n",
       "      <th>Clanov</th>\n",
       "      <th>Otrok</th>\n",
       "      <th>Dohodek</th>\n",
       "      <th>Cetrt</th>\n",
       "      <th>Izobrazba</th>\n",
       "      <th>Brez Izobrazbe</th>\n",
       "    </tr>\n",
       "  </thead>\n",
       "  <tbody>\n",
       "    <tr>\n",
       "      <th>0</th>\n",
       "      <td>1</td>\n",
       "      <td>2</td>\n",
       "      <td>0</td>\n",
       "      <td>43450</td>\n",
       "      <td>1</td>\n",
       "      <td>39</td>\n",
       "      <td>0</td>\n",
       "    </tr>\n",
       "    <tr>\n",
       "      <th>1</th>\n",
       "      <td>1</td>\n",
       "      <td>2</td>\n",
       "      <td>0</td>\n",
       "      <td>79000</td>\n",
       "      <td>1</td>\n",
       "      <td>40</td>\n",
       "      <td>0</td>\n",
       "    </tr>\n",
       "    <tr>\n",
       "      <th>2</th>\n",
       "      <td>1</td>\n",
       "      <td>2</td>\n",
       "      <td>0</td>\n",
       "      <td>51306</td>\n",
       "      <td>1</td>\n",
       "      <td>39</td>\n",
       "      <td>0</td>\n",
       "    </tr>\n",
       "    <tr>\n",
       "      <th>3</th>\n",
       "      <td>1</td>\n",
       "      <td>4</td>\n",
       "      <td>2</td>\n",
       "      <td>24850</td>\n",
       "      <td>1</td>\n",
       "      <td>41</td>\n",
       "      <td>0</td>\n",
       "    </tr>\n",
       "    <tr>\n",
       "      <th>4</th>\n",
       "      <td>1</td>\n",
       "      <td>4</td>\n",
       "      <td>2</td>\n",
       "      <td>65145</td>\n",
       "      <td>1</td>\n",
       "      <td>43</td>\n",
       "      <td>0</td>\n",
       "    </tr>\n",
       "  </tbody>\n",
       "</table>\n",
       "</div>"
      ],
      "text/plain": [
       "   Tip  Clanov  Otrok  Dohodek  Cetrt  Izobrazba  Brez Izobrazbe\n",
       "0    1       2      0    43450      1         39               0\n",
       "1    1       2      0    79000      1         40               0\n",
       "2    1       2      0    51306      1         39               0\n",
       "3    1       4      2    24850      1         41               0\n",
       "4    1       4      2    65145      1         43               0"
      ]
     },
     "execution_count": 5,
     "metadata": {},
     "output_type": "execute_result"
    }
   ],
   "source": [
    "Kibergrad.head()"
   ]
  },
  {
   "cell_type": "markdown",
   "metadata": {},
   "source": [
    "Naredimo si seznam indeksov, ki nam označujejo katerih 200 (800) vrstic iz strukture Kibergrad smo vzeli v naključno izbran vzorec."
   ]
  },
  {
   "cell_type": "code",
   "execution_count": 6,
   "metadata": {},
   "outputs": [],
   "source": [
    "Vzorci200 = []\n",
    "for i in range(100):\n",
    "    Vzorec = Kibergrad.sample(200, random_state=i)\n",
    "    Seznam = Vzorec.index.tolist()\n",
    "    Vzorci200.append(Seznam)"
   ]
  },
  {
   "cell_type": "code",
   "execution_count": 7,
   "metadata": {},
   "outputs": [],
   "source": [
    "Vzorci800 = []\n",
    "for i in range(100):\n",
    "    Vzorec = Kibergrad.sample(800, random_state=i)\n",
    "    Seznam = Vzorec.index.tolist()\n",
    "    Vzorci800.append(Seznam)"
   ]
  },
  {
   "cell_type": "code",
   "execution_count": 8,
   "metadata": {},
   "outputs": [],
   "source": [
    "N = len(Kibergrad) # število vseh družin v populaciji\n",
    "n = len(Vzorci200[0]) # število družin v vzorcu - tokrat 200\n",
    "m = len(Vzorci800[0]) # število družin v vzorcu - tokrat 800"
   ]
  },
  {
   "cell_type": "markdown",
   "metadata": {},
   "source": [
    "Za vsak nakjlučno izbran vzorec izračunajmo pripadajoč Delež, Standardno Napako in Spodnjo ter zgornjo mejo za 95% interval zaupanja, nato si vse to shranimo v novo strukturo"
   ]
  },
  {
   "cell_type": "code",
   "execution_count": 9,
   "metadata": {},
   "outputs": [],
   "source": [
    "Podatki200 = []\n",
    "for i in range(100):\n",
    "    Podatek = []\n",
    "    Vzorec = Kibergrad.take(Vzorci200[i]).reset_index(drop=True)\n",
    "    Delez = Vzorec[\"Brez Izobrazbe\"].mean()\n",
    "    StandNap = math.sqrt((N - n)*Delez*(1 - Delez)/((n - 1)*N))\n",
    "    Zg = Delez + 1.96 * StandNap\n",
    "    Sp = Delez - 1.96 * StandNap\n",
    "    Podatki200.append([Delez, StandNap, Sp, Zg])"
   ]
  },
  {
   "cell_type": "code",
   "execution_count": 10,
   "metadata": {},
   "outputs": [],
   "source": [
    "Data200 = pd.DataFrame(Podatki200, columns = [\"Delez\", \"Standardna Napaka\", \"Spodnja Meja\", \"Zgornja Meja\"])"
   ]
  },
  {
   "cell_type": "code",
   "execution_count": 11,
   "metadata": {},
   "outputs": [
    {
     "data": {
      "text/html": [
       "<div>\n",
       "<style scoped>\n",
       "    .dataframe tbody tr th:only-of-type {\n",
       "        vertical-align: middle;\n",
       "    }\n",
       "\n",
       "    .dataframe tbody tr th {\n",
       "        vertical-align: top;\n",
       "    }\n",
       "\n",
       "    .dataframe thead th {\n",
       "        text-align: right;\n",
       "    }\n",
       "</style>\n",
       "<table border=\"1\" class=\"dataframe\">\n",
       "  <thead>\n",
       "    <tr style=\"text-align: right;\">\n",
       "      <th></th>\n",
       "      <th>Delez</th>\n",
       "      <th>Standardna Napaka</th>\n",
       "      <th>Spodnja Meja</th>\n",
       "      <th>Zgornja Meja</th>\n",
       "    </tr>\n",
       "  </thead>\n",
       "  <tbody>\n",
       "    <tr>\n",
       "      <th>0</th>\n",
       "      <td>0.225</td>\n",
       "      <td>0.029534</td>\n",
       "      <td>0.167113</td>\n",
       "      <td>0.282887</td>\n",
       "    </tr>\n",
       "    <tr>\n",
       "      <th>1</th>\n",
       "      <td>0.180</td>\n",
       "      <td>0.027172</td>\n",
       "      <td>0.126742</td>\n",
       "      <td>0.233258</td>\n",
       "    </tr>\n",
       "    <tr>\n",
       "      <th>2</th>\n",
       "      <td>0.180</td>\n",
       "      <td>0.027172</td>\n",
       "      <td>0.126742</td>\n",
       "      <td>0.233258</td>\n",
       "    </tr>\n",
       "    <tr>\n",
       "      <th>3</th>\n",
       "      <td>0.185</td>\n",
       "      <td>0.027463</td>\n",
       "      <td>0.131173</td>\n",
       "      <td>0.238827</td>\n",
       "    </tr>\n",
       "    <tr>\n",
       "      <th>4</th>\n",
       "      <td>0.180</td>\n",
       "      <td>0.027172</td>\n",
       "      <td>0.126742</td>\n",
       "      <td>0.233258</td>\n",
       "    </tr>\n",
       "    <tr>\n",
       "      <th>...</th>\n",
       "      <td>...</td>\n",
       "      <td>...</td>\n",
       "      <td>...</td>\n",
       "      <td>...</td>\n",
       "    </tr>\n",
       "    <tr>\n",
       "      <th>95</th>\n",
       "      <td>0.235</td>\n",
       "      <td>0.029988</td>\n",
       "      <td>0.176224</td>\n",
       "      <td>0.293776</td>\n",
       "    </tr>\n",
       "    <tr>\n",
       "      <th>96</th>\n",
       "      <td>0.280</td>\n",
       "      <td>0.031756</td>\n",
       "      <td>0.217758</td>\n",
       "      <td>0.342242</td>\n",
       "    </tr>\n",
       "    <tr>\n",
       "      <th>97</th>\n",
       "      <td>0.220</td>\n",
       "      <td>0.029298</td>\n",
       "      <td>0.162576</td>\n",
       "      <td>0.277424</td>\n",
       "    </tr>\n",
       "    <tr>\n",
       "      <th>98</th>\n",
       "      <td>0.160</td>\n",
       "      <td>0.025929</td>\n",
       "      <td>0.109180</td>\n",
       "      <td>0.210820</td>\n",
       "    </tr>\n",
       "    <tr>\n",
       "      <th>99</th>\n",
       "      <td>0.185</td>\n",
       "      <td>0.027463</td>\n",
       "      <td>0.131173</td>\n",
       "      <td>0.238827</td>\n",
       "    </tr>\n",
       "  </tbody>\n",
       "</table>\n",
       "<p>100 rows × 4 columns</p>\n",
       "</div>"
      ],
      "text/plain": [
       "    Delez  Standardna Napaka  Spodnja Meja  Zgornja Meja\n",
       "0   0.225           0.029534      0.167113      0.282887\n",
       "1   0.180           0.027172      0.126742      0.233258\n",
       "2   0.180           0.027172      0.126742      0.233258\n",
       "3   0.185           0.027463      0.131173      0.238827\n",
       "4   0.180           0.027172      0.126742      0.233258\n",
       "..    ...                ...           ...           ...\n",
       "95  0.235           0.029988      0.176224      0.293776\n",
       "96  0.280           0.031756      0.217758      0.342242\n",
       "97  0.220           0.029298      0.162576      0.277424\n",
       "98  0.160           0.025929      0.109180      0.210820\n",
       "99  0.185           0.027463      0.131173      0.238827\n",
       "\n",
       "[100 rows x 4 columns]"
      ]
     },
     "execution_count": 11,
     "metadata": {},
     "output_type": "execute_result"
    }
   ],
   "source": [
    "Data200"
   ]
  },
  {
   "cell_type": "code",
   "execution_count": 12,
   "metadata": {},
   "outputs": [],
   "source": [
    "Podatki800 = []\n",
    "for i in range(100):\n",
    "    Podatek = []\n",
    "    Vzorec = Kibergrad.take(Vzorci800[i]).reset_index(drop=True)\n",
    "    Delez = Vzorec[Vzorec.Izobrazba < 39].shape[0]/m\n",
    "    StandNap = math.sqrt((N - m)*Delez*(1 - Delez)/((m - 1)*N))\n",
    "    Zg = Delez + 1.96*StandNap\n",
    "    Sp = Delez - 1.96*StandNap\n",
    "    Podatki800.append([Delez, StandNap, Sp, Zg])"
   ]
  },
  {
   "cell_type": "code",
   "execution_count": 13,
   "metadata": {},
   "outputs": [],
   "source": [
    "Data800 = pd.DataFrame(Podatki800, columns = [\"Delez\", \"Standardna Napaka\", \"Spodnja Meja\", \"Zgornja Meja\"])"
   ]
  },
  {
   "cell_type": "code",
   "execution_count": 14,
   "metadata": {},
   "outputs": [
    {
     "data": {
      "text/html": [
       "<div>\n",
       "<style scoped>\n",
       "    .dataframe tbody tr th:only-of-type {\n",
       "        vertical-align: middle;\n",
       "    }\n",
       "\n",
       "    .dataframe tbody tr th {\n",
       "        vertical-align: top;\n",
       "    }\n",
       "\n",
       "    .dataframe thead th {\n",
       "        text-align: right;\n",
       "    }\n",
       "</style>\n",
       "<table border=\"1\" class=\"dataframe\">\n",
       "  <thead>\n",
       "    <tr style=\"text-align: right;\">\n",
       "      <th></th>\n",
       "      <th>Delez</th>\n",
       "      <th>Standardna Napaka</th>\n",
       "      <th>Spodnja Meja</th>\n",
       "      <th>Zgornja Meja</th>\n",
       "    </tr>\n",
       "  </thead>\n",
       "  <tbody>\n",
       "    <tr>\n",
       "      <th>0</th>\n",
       "      <td>0.20000</td>\n",
       "      <td>0.014021</td>\n",
       "      <td>0.172518</td>\n",
       "      <td>0.227482</td>\n",
       "    </tr>\n",
       "    <tr>\n",
       "      <th>1</th>\n",
       "      <td>0.18250</td>\n",
       "      <td>0.013540</td>\n",
       "      <td>0.155962</td>\n",
       "      <td>0.209038</td>\n",
       "    </tr>\n",
       "    <tr>\n",
       "      <th>2</th>\n",
       "      <td>0.20875</td>\n",
       "      <td>0.014246</td>\n",
       "      <td>0.180827</td>\n",
       "      <td>0.236673</td>\n",
       "    </tr>\n",
       "    <tr>\n",
       "      <th>3</th>\n",
       "      <td>0.22375</td>\n",
       "      <td>0.014609</td>\n",
       "      <td>0.195117</td>\n",
       "      <td>0.252383</td>\n",
       "    </tr>\n",
       "    <tr>\n",
       "      <th>4</th>\n",
       "      <td>0.21500</td>\n",
       "      <td>0.014401</td>\n",
       "      <td>0.186774</td>\n",
       "      <td>0.243226</td>\n",
       "    </tr>\n",
       "    <tr>\n",
       "      <th>...</th>\n",
       "      <td>...</td>\n",
       "      <td>...</td>\n",
       "      <td>...</td>\n",
       "      <td>...</td>\n",
       "    </tr>\n",
       "    <tr>\n",
       "      <th>95</th>\n",
       "      <td>0.21250</td>\n",
       "      <td>0.014340</td>\n",
       "      <td>0.184394</td>\n",
       "      <td>0.240606</td>\n",
       "    </tr>\n",
       "    <tr>\n",
       "      <th>96</th>\n",
       "      <td>0.22000</td>\n",
       "      <td>0.014521</td>\n",
       "      <td>0.191539</td>\n",
       "      <td>0.248461</td>\n",
       "    </tr>\n",
       "    <tr>\n",
       "      <th>97</th>\n",
       "      <td>0.22375</td>\n",
       "      <td>0.014609</td>\n",
       "      <td>0.195117</td>\n",
       "      <td>0.252383</td>\n",
       "    </tr>\n",
       "    <tr>\n",
       "      <th>98</th>\n",
       "      <td>0.19250</td>\n",
       "      <td>0.013820</td>\n",
       "      <td>0.165412</td>\n",
       "      <td>0.219588</td>\n",
       "    </tr>\n",
       "    <tr>\n",
       "      <th>99</th>\n",
       "      <td>0.20875</td>\n",
       "      <td>0.014246</td>\n",
       "      <td>0.180827</td>\n",
       "      <td>0.236673</td>\n",
       "    </tr>\n",
       "  </tbody>\n",
       "</table>\n",
       "<p>100 rows × 4 columns</p>\n",
       "</div>"
      ],
      "text/plain": [
       "      Delez  Standardna Napaka  Spodnja Meja  Zgornja Meja\n",
       "0   0.20000           0.014021      0.172518      0.227482\n",
       "1   0.18250           0.013540      0.155962      0.209038\n",
       "2   0.20875           0.014246      0.180827      0.236673\n",
       "3   0.22375           0.014609      0.195117      0.252383\n",
       "4   0.21500           0.014401      0.186774      0.243226\n",
       "..      ...                ...           ...           ...\n",
       "95  0.21250           0.014340      0.184394      0.240606\n",
       "96  0.22000           0.014521      0.191539      0.248461\n",
       "97  0.22375           0.014609      0.195117      0.252383\n",
       "98  0.19250           0.013820      0.165412      0.219588\n",
       "99  0.20875           0.014246      0.180827      0.236673\n",
       "\n",
       "[100 rows x 4 columns]"
      ]
     },
     "execution_count": 14,
     "metadata": {},
     "output_type": "execute_result"
    }
   ],
   "source": [
    "Data800"
   ]
  },
  {
   "cell_type": "markdown",
   "metadata": {},
   "source": [
    "A del naloge - Ocena za delež na naključno izbranem vzorecu populacije velikosti 200 bo kar delež vzorcu"
   ]
  },
  {
   "cell_type": "code",
   "execution_count": 15,
   "metadata": {},
   "outputs": [],
   "source": [
    "seed(7)"
   ]
  },
  {
   "cell_type": "code",
   "execution_count": 16,
   "metadata": {},
   "outputs": [
    {
     "data": {
      "text/plain": [
       "0.205"
      ]
     },
     "execution_count": 16,
     "metadata": {},
     "output_type": "execute_result"
    }
   ],
   "source": [
    "Podatki200[randint(0,100)][0]"
   ]
  },
  {
   "cell_type": "markdown",
   "metadata": {},
   "source": [
    "B del naloge - Ocenite standardno napako in 95% interval zaupanja. Ker sem tudi to že poračunal zgoraj, bomo le poklicali podatek iz tabele:"
   ]
  },
  {
   "cell_type": "code",
   "execution_count": 17,
   "metadata": {},
   "outputs": [
    {
     "data": {
      "text/plain": [
       "0.029987913664545163"
      ]
     },
     "execution_count": 17,
     "metadata": {},
     "output_type": "execute_result"
    }
   ],
   "source": [
    "Podatki200[randint(0,100)][1]"
   ]
  },
  {
   "cell_type": "code",
   "execution_count": 18,
   "metadata": {},
   "outputs": [],
   "source": [
    "Interval = (Podatki200[randint(0,100)][2], Podatki200[randint(0,100)][3])"
   ]
  },
  {
   "cell_type": "code",
   "execution_count": 19,
   "metadata": {},
   "outputs": [
    {
     "data": {
      "text/plain": [
       "(0.16711316767835058, 0.2992038693386862)"
      ]
     },
     "execution_count": 19,
     "metadata": {},
     "output_type": "execute_result"
    }
   ],
   "source": [
    "Interval"
   ]
  },
  {
   "cell_type": "markdown",
   "metadata": {},
   "source": [
    "C del naloge - Primerjaj z populacijskim deležem in pravo standardno napako. Ali interval zaupanja pokrije populacijski delež?"
   ]
  },
  {
   "cell_type": "code",
   "execution_count": 20,
   "metadata": {},
   "outputs": [],
   "source": [
    "Delez = Kibergrad[\"Brez Izobrazbe\"].mean()\n",
    "StandardnaNapaka = math.sqrt(Kibergrad[\"Brez Izobrazbe\"].var()/n)"
   ]
  },
  {
   "cell_type": "code",
   "execution_count": 21,
   "metadata": {},
   "outputs": [
    {
     "data": {
      "text/plain": [
       "0.21150252928040833"
      ]
     },
     "execution_count": 21,
     "metadata": {},
     "output_type": "execute_result"
    }
   ],
   "source": [
    "Delez"
   ]
  },
  {
   "cell_type": "code",
   "execution_count": 22,
   "metadata": {},
   "outputs": [
    {
     "data": {
      "text/plain": [
       "0.028876721552999276"
      ]
     },
     "execution_count": 22,
     "metadata": {},
     "output_type": "execute_result"
    }
   ],
   "source": [
    "StandardnaNapaka"
   ]
  },
  {
   "cell_type": "code",
   "execution_count": 23,
   "metadata": {},
   "outputs": [
    {
     "name": "stdout",
     "output_type": "stream",
     "text": [
      "JA :)\n"
     ]
    }
   ],
   "source": [
    "if Interval[0] <= Delez <= Interval[1]:\n",
    "    print(\"JA :)\")\n",
    "else:\n",
    "    print(\"Ne :(\")"
   ]
  },
  {
   "cell_type": "markdown",
   "metadata": {},
   "source": [
    "D del naloge - naredi to še za 99 naključnih vzorcev v populaciji, nariši intervale zaupanja, koliko jih pokrije populacijski delež?"
   ]
  },
  {
   "cell_type": "code",
   "execution_count": 24,
   "metadata": {},
   "outputs": [],
   "source": [
    "stevec200 = 0\n",
    "for i in range(100):\n",
    "    if Podatki200[i][2] <= Delez <= Podatki200[i][3]:\n",
    "        stevec200 += 1\n",
    "    else:\n",
    "        stevec200 = stevec200"
   ]
  },
  {
   "cell_type": "code",
   "execution_count": 25,
   "metadata": {},
   "outputs": [
    {
     "data": {
      "text/plain": [
       "92"
      ]
     },
     "execution_count": 25,
     "metadata": {},
     "output_type": "execute_result"
    }
   ],
   "source": [
    "stevec200"
   ]
  },
  {
   "cell_type": "code",
   "execution_count": 26,
   "metadata": {},
   "outputs": [
    {
     "data": {
      "image/png": "[encoded data removed]",
      "text/plain": [
       "<Figure size 432x288 with 1 Axes>"
      ]
     },
     "metadata": {
      "needs_background": "light"
     },
     "output_type": "display_data"
    }
   ],
   "source": [
    "for i in range(100):\n",
    "    plt.plot((Podatki200[i][2], Podatki200[i][3]), (i, i), \"royalblue\")\n",
    "plt.plot((Delez, Delez), (0,100), \"darkblue\")\n",
    "plt.savefig(\"IZ200.png\")"
   ]
  },
  {
   "cell_type": "markdown",
   "metadata": {},
   "source": [
    "E del naloge - Standardni odklon deležev vzorcev populacije, primerjaj s pravo standardno napako velikosti 200."
   ]
  },
  {
   "cell_type": "code",
   "execution_count": 27,
   "metadata": {},
   "outputs": [],
   "source": [
    "StandardniOdklon200 = Data200[\"Delez\"].std(ddof=0)\n",
    "StandardnaNapaka200 = math.sqrt((N-n)*Delez*(1 - Delez)/((n-1)*N))"
   ]
  },
  {
   "cell_type": "code",
   "execution_count": 28,
   "metadata": {},
   "outputs": [
    {
     "data": {
      "text/plain": [
       "0.02976487023321284"
      ]
     },
     "execution_count": 28,
     "metadata": {},
     "output_type": "execute_result"
    }
   ],
   "source": [
    "StandardniOdklon200"
   ]
  },
  {
   "cell_type": "code",
   "execution_count": 29,
   "metadata": {},
   "outputs": [
    {
     "data": {
      "text/plain": [
       "0.028882816300147416"
      ]
     },
     "execution_count": 29,
     "metadata": {},
     "output_type": "execute_result"
    }
   ],
   "source": [
    "StandardnaNapaka200"
   ]
  },
  {
   "cell_type": "markdown",
   "metadata": {},
   "source": [
    "F del naloge - Naredi zgornji dve točki še za vzorec velikosti m = 800."
   ]
  },
  {
   "cell_type": "code",
   "execution_count": 30,
   "metadata": {},
   "outputs": [],
   "source": [
    "stevec800 = 0\n",
    "for i in range(100):\n",
    "    if Podatki800[i][2] <= Delez <= Podatki800[i][3]:\n",
    "        stevec800 += 1\n",
    "    else:\n",
    "        stevec800 = stevec800"
   ]
  },
  {
   "cell_type": "code",
   "execution_count": 31,
   "metadata": {},
   "outputs": [
    {
     "data": {
      "text/plain": [
       "97"
      ]
     },
     "execution_count": 31,
     "metadata": {},
     "output_type": "execute_result"
    }
   ],
   "source": [
    "stevec800"
   ]
  },
  {
   "cell_type": "code",
   "execution_count": 32,
   "metadata": {},
   "outputs": [
    {
     "data": {
      "image/png": "[encoded data removed]",
      "text/plain": [
       "<Figure size 432x288 with 1 Axes>"
      ]
     },
     "metadata": {
      "needs_background": "light"
     },
     "output_type": "display_data"
    }
   ],
   "source": [
    "for i in range(100):\n",
    "    plt.plot((Podatki800[i][2], Podatki800[i][3]), (i, i), \"tomato\")\n",
    "plt.plot((Delez, Delez), (0,100),\"firebrick\")\n",
    "plt.savefig(\"IZ800.png\")"
   ]
  },
  {
   "cell_type": "code",
   "execution_count": 33,
   "metadata": {},
   "outputs": [],
   "source": [
    "StandardniOdklon800 = Data800[\"Delez\"].std(ddof=0)\n",
    "StandardnaNapaka800 = math.sqrt((N-m)*Delez*(1 - Delez)/((m-1)*N))"
   ]
  },
  {
   "cell_type": "code",
   "execution_count": 34,
   "metadata": {},
   "outputs": [
    {
     "data": {
      "text/plain": [
       "0.014184471042305384"
      ]
     },
     "execution_count": 34,
     "metadata": {},
     "output_type": "execute_result"
    }
   ],
   "source": [
    "StandardniOdklon800"
   ]
  },
  {
   "cell_type": "code",
   "execution_count": 35,
   "metadata": {},
   "outputs": [
    {
     "data": {
      "text/plain": [
       "0.01431494337534124"
      ]
     },
     "execution_count": 35,
     "metadata": {},
     "output_type": "execute_result"
    }
   ],
   "source": [
    "StandardnaNapaka800"
   ]
  }
 ],
 "metadata": {
  "kernelspec": {
   "display_name": "Python 3.10.5 64-bit",
   "language": "python",
   "name": "python3"
  },
  "language_info": {
   "codemirror_mode": {
    "name": "ipython",
    "version": 3
   },
   "file_extension": ".py",
   "mimetype": "text/x-python",
   "name": "python",
   "nbconvert_exporter": "python",
   "pygments_lexer": "ipython3",
   "version": "3.10.5"
  },
  "vscode": {
   "interpreter": {
    "hash": "3d7c55432ef9c27002522a2f3bb7bb6db1476d8b901f1b719f3c4e18bae18a49"
   }
  }
 },
 "nbformat": 4,
 "nbformat_minor": 2
}
