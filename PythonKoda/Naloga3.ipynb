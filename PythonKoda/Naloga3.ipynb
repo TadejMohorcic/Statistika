{
 "cells": [
  {
   "cell_type": "code",
   "execution_count": 1,
   "metadata": {},
   "outputs": [],
   "source": [
    "import pandas as pd\n",
    "import numpy as np\n",
    "import matplotlib.pyplot as plt "
   ]
  },
  {
   "cell_type": "code",
   "execution_count": 2,
   "metadata": {},
   "outputs": [],
   "source": [
    "TempLJ = pd.read_csv(\"../Podatki/Temp_LJ.csv\")"
   ]
  },
  {
   "cell_type": "code",
   "execution_count": 3,
   "metadata": {},
   "outputs": [],
   "source": [
    "TempLJ.rename(columns={\"LETO\": \"Leto\", \"MESEC\": \"Mesec\", \"TEMPERATURA\": \"Temperatura\"}, inplace=True)"
   ]
  },
  {
   "cell_type": "code",
   "execution_count": 4,
   "metadata": {},
   "outputs": [],
   "source": [
    "n = len(TempLJ)\n",
    "Zapored = []\n",
    "\n",
    "for i in range(n):\n",
    "    Zapored.append(i)\n"
   ]
  },
  {
   "cell_type": "code",
   "execution_count": 5,
   "metadata": {},
   "outputs": [],
   "source": [
    "TempLJ[\"KateriMesec\"] = Zapored"
   ]
  },
  {
   "cell_type": "code",
   "execution_count": 6,
   "metadata": {},
   "outputs": [
    {
     "data": {
      "text/html": [
       "<div>\n",
       "<style scoped>\n",
       "    .dataframe tbody tr th:only-of-type {\n",
       "        vertical-align: middle;\n",
       "    }\n",
       "\n",
       "    .dataframe tbody tr th {\n",
       "        vertical-align: top;\n",
       "    }\n",
       "\n",
       "    .dataframe thead th {\n",
       "        text-align: right;\n",
       "    }\n",
       "</style>\n",
       "<table border=\"1\" class=\"dataframe\">\n",
       "  <thead>\n",
       "    <tr style=\"text-align: right;\">\n",
       "      <th></th>\n",
       "      <th>Leto</th>\n",
       "      <th>Mesec</th>\n",
       "      <th>Temperatura</th>\n",
       "      <th>KateriMesec</th>\n",
       "    </tr>\n",
       "  </thead>\n",
       "  <tbody>\n",
       "    <tr>\n",
       "      <th>0</th>\n",
       "      <td>1986</td>\n",
       "      <td>1</td>\n",
       "      <td>0.1</td>\n",
       "      <td>0</td>\n",
       "    </tr>\n",
       "    <tr>\n",
       "      <th>1</th>\n",
       "      <td>1986</td>\n",
       "      <td>2</td>\n",
       "      <td>-2.8</td>\n",
       "      <td>1</td>\n",
       "    </tr>\n",
       "    <tr>\n",
       "      <th>2</th>\n",
       "      <td>1986</td>\n",
       "      <td>3</td>\n",
       "      <td>3.2</td>\n",
       "      <td>2</td>\n",
       "    </tr>\n",
       "    <tr>\n",
       "      <th>3</th>\n",
       "      <td>1986</td>\n",
       "      <td>4</td>\n",
       "      <td>10.2</td>\n",
       "      <td>3</td>\n",
       "    </tr>\n",
       "    <tr>\n",
       "      <th>4</th>\n",
       "      <td>1986</td>\n",
       "      <td>5</td>\n",
       "      <td>17.6</td>\n",
       "      <td>4</td>\n",
       "    </tr>\n",
       "    <tr>\n",
       "      <th>...</th>\n",
       "      <td>...</td>\n",
       "      <td>...</td>\n",
       "      <td>...</td>\n",
       "      <td>...</td>\n",
       "    </tr>\n",
       "    <tr>\n",
       "      <th>415</th>\n",
       "      <td>2020</td>\n",
       "      <td>8</td>\n",
       "      <td>22.2</td>\n",
       "      <td>415</td>\n",
       "    </tr>\n",
       "    <tr>\n",
       "      <th>416</th>\n",
       "      <td>2020</td>\n",
       "      <td>9</td>\n",
       "      <td>17.5</td>\n",
       "      <td>416</td>\n",
       "    </tr>\n",
       "    <tr>\n",
       "      <th>417</th>\n",
       "      <td>2020</td>\n",
       "      <td>10</td>\n",
       "      <td>11.9</td>\n",
       "      <td>417</td>\n",
       "    </tr>\n",
       "    <tr>\n",
       "      <th>418</th>\n",
       "      <td>2020</td>\n",
       "      <td>11</td>\n",
       "      <td>5.3</td>\n",
       "      <td>418</td>\n",
       "    </tr>\n",
       "    <tr>\n",
       "      <th>419</th>\n",
       "      <td>2020</td>\n",
       "      <td>12</td>\n",
       "      <td>2.9</td>\n",
       "      <td>419</td>\n",
       "    </tr>\n",
       "  </tbody>\n",
       "</table>\n",
       "<p>420 rows × 4 columns</p>\n",
       "</div>"
      ],
      "text/plain": [
       "     Leto  Mesec  Temperatura  KateriMesec\n",
       "0    1986      1          0.1            0\n",
       "1    1986      2         -2.8            1\n",
       "2    1986      3          3.2            2\n",
       "3    1986      4         10.2            3\n",
       "4    1986      5         17.6            4\n",
       "..    ...    ...          ...          ...\n",
       "415  2020      8         22.2          415\n",
       "416  2020      9         17.5          416\n",
       "417  2020     10         11.9          417\n",
       "418  2020     11          5.3          418\n",
       "419  2020     12          2.9          419\n",
       "\n",
       "[420 rows x 4 columns]"
      ]
     },
     "execution_count": 6,
     "metadata": {},
     "output_type": "execute_result"
    }
   ],
   "source": [
    "TempLJ"
   ]
  },
  {
   "cell_type": "markdown",
   "metadata": {},
   "source": [
    "https://towardsdatascience.com/machine-learning-for-biomedical-data-linear-regression-7d43461cdfa9"
   ]
  },
  {
   "cell_type": "code",
   "execution_count": 8,
   "metadata": {},
   "outputs": [],
   "source": [
    "X = np.asarray(TempLJ.KateriMesec.values)\n",
    "y = np.asarray(TempLJ.Temperatura.values)"
   ]
  },
  {
   "cell_type": "code",
   "execution_count": 9,
   "metadata": {},
   "outputs": [],
   "source": [
    "def FeatureScalingNormalization(X):\n",
    "    # Initialize the following variables:\n",
    "    # Make a copy of the X vector and call it X_norm\n",
    "    X_norm = X \n",
    "\n",
    "    # mu: It will contain the average \n",
    "    # value of X in training set.\n",
    "    mu = np.zeros(X.shape[0]) \n",
    "\n",
    "    # sigma: It will contain the Range(max-min)\n",
    "    # of X or Standard Deviation\n",
    "    sigma = np.zeros(X.shape[0]) \n",
    "\n",
    "    mu = X.mean()\n",
    "    # The Standard Deviation calculation with NumPy,\n",
    "    # requires the argument \"degrees of freedom\" = 1\n",
    "    sigma = X.std(ddof=1)\n",
    "\n",
    "    # number of training examples\n",
    "    m = X.shape[0] \n",
    "    \n",
    "    # Make a vector of size m with the mu values\n",
    "    mu_matrix = np.multiply(np.ones(m), mu).T \n",
    "    \n",
    "    # Make a vector of size m with the sigma values    \n",
    "    sigma_matrix = np.multiply(np.ones(m), sigma).T\n",
    "    \n",
    "    # Apply the Feature Scaling Normalization formula\n",
    "    X_norm = np.subtract(X, mu).T\n",
    "    X_norm = X_norm /sigma.T\n",
    "    \n",
    "    return [X_norm, mu, sigma]"
   ]
  },
  {
   "cell_type": "code",
   "execution_count": 10,
   "metadata": {},
   "outputs": [],
   "source": [
    "# Normalize X using the FeatureScalingNormalization() function, and \n",
    "# copy the results in the \"featuresNormalizeresults\" list\n",
    "featuresNormalizeresults = FeatureScalingNormalization(X)\n",
    "\n",
    "# get the normalized X matrix\n",
    "X = np.asarray(featuresNormalizeresults[0]).T\n",
    "\n",
    "# get the mean\n",
    "mu = featuresNormalizeresults[1]\n",
    "\n",
    "# get the sigma\n",
    "sigma = featuresNormalizeresults[2]"
   ]
  },
  {
   "cell_type": "code",
   "execution_count": 11,
   "metadata": {},
   "outputs": [],
   "source": [
    "# Add a column of ones to the matrix X\n",
    "\n",
    "m = len(y) # number of training examples\n",
    "X = np.vstack((np.ones(m), X.T)).T"
   ]
  },
  {
   "cell_type": "code",
   "execution_count": 12,
   "metadata": {},
   "outputs": [
    {
     "data": {
      "text/plain": [
       "Text(0, 0.5, 'Temperatura')"
      ]
     },
     "execution_count": 12,
     "metadata": {},
     "output_type": "execute_result"
    },
    {
     "data": {
      "image/png": "[encoded data removed]",
      "text/plain": [
       "<Figure size 432x288 with 1 Axes>"
      ]
     },
     "metadata": {
      "needs_background": "light"
     },
     "output_type": "display_data"
    }
   ],
   "source": [
    "# Plot the data (plt is a matplotlib object)\n",
    "plt.scatter(X[:,[1]], y,  color='black') \n",
    "\n",
    "# Put labels\n",
    "plt.xlabel(\"Zaporedni Mesec\")\n",
    "plt.ylabel(\"Temperatura\")"
   ]
  },
  {
   "cell_type": "code",
   "execution_count": null,
   "metadata": {},
   "outputs": [],
   "source": []
  }
 ],
 "metadata": {
  "kernelspec": {
   "display_name": "Python 3.8.2 32-bit",
   "language": "python",
   "name": "python3"
  },
  "language_info": {
   "codemirror_mode": {
    "name": "ipython",
    "version": 3
   },
   "file_extension": ".py",
   "mimetype": "text/x-python",
   "name": "python",
   "nbconvert_exporter": "python",
   "pygments_lexer": "ipython3",
   "version": "3.8.2"
  },
  "orig_nbformat": 4,
  "vscode": {
   "interpreter": {
    "hash": "975443f50cbbd1405e202f0a33e800922aaf8793e3e705d110ddc224dc458a7a"
   }
  }
 },
 "nbformat": 4,
 "nbformat_minor": 2
}
