{
 "cells": [
  {
   "cell_type": "code",
   "execution_count": 1,
   "metadata": {},
   "outputs": [],
   "source": [
    "import pandas as pd\n",
    "import numpy as np\n",
    "import matplotlib.pyplot as plt\n",
    "from scipy import stats\n",
    "import math"
   ]
  },
  {
   "cell_type": "code",
   "execution_count": 2,
   "metadata": {},
   "outputs": [],
   "source": [
    "TempLJ = pd.read_csv(\"../Podatki/Temp_LJ.csv\")"
   ]
  },
  {
   "cell_type": "code",
   "execution_count": 3,
   "metadata": {},
   "outputs": [],
   "source": [
    "TempLJ.rename(columns={\"LETO\": \"Leto\", \"MESEC\": \"Mesec\", \"TEMPERATURA\": \"Temperatura\"}, inplace=True)"
   ]
  },
  {
   "cell_type": "code",
   "execution_count": 4,
   "metadata": {},
   "outputs": [],
   "source": [
    "n = len(TempLJ)\n",
    "\n",
    "Zapored = []\n",
    "for i in range(n):\n",
    "    Zapored.append(i)\n",
    "\n",
    "Ena = []\n",
    "for i in range(n):\n",
    "    Ena.append(1)\n",
    "\n",
    "Sin = []\n",
    "for i in range(n):\n",
    "    Sin.append(np.sin(math.pi*i/6))\n",
    "    \n",
    "Cos = []\n",
    "for i in range(n):\n",
    "    Cos.append(np.cos(math.pi*i/6))\n"
   ]
  },
  {
   "cell_type": "code",
   "execution_count": 5,
   "metadata": {},
   "outputs": [],
   "source": [
    "TempLJ[\"ZaporedniMesec\"] = Zapored\n",
    "TempLJ[\"Ena\"] = Ena\n",
    "TempLJ[\"Sinus\"] = Sin\n",
    "TempLJ[\"Kosinus\"] = Cos"
   ]
  },
  {
   "cell_type": "code",
   "execution_count": 32,
   "metadata": {},
   "outputs": [
    {
     "data": {
      "text/html": [
       "<div>\n",
       "<style scoped>\n",
       "    .dataframe tbody tr th:only-of-type {\n",
       "        vertical-align: middle;\n",
       "    }\n",
       "\n",
       "    .dataframe tbody tr th {\n",
       "        vertical-align: top;\n",
       "    }\n",
       "\n",
       "    .dataframe thead th {\n",
       "        text-align: right;\n",
       "    }\n",
       "</style>\n",
       "<table border=\"1\" class=\"dataframe\">\n",
       "  <thead>\n",
       "    <tr style=\"text-align: right;\">\n",
       "      <th></th>\n",
       "      <th>Leto</th>\n",
       "      <th>Mesec</th>\n",
       "      <th>Temperatura</th>\n",
       "      <th>ZaporedniMesec</th>\n",
       "      <th>Ena</th>\n",
       "      <th>Sinus</th>\n",
       "      <th>Kosinus</th>\n",
       "    </tr>\n",
       "  </thead>\n",
       "  <tbody>\n",
       "    <tr>\n",
       "      <th>0</th>\n",
       "      <td>1986</td>\n",
       "      <td>1</td>\n",
       "      <td>0.1</td>\n",
       "      <td>0</td>\n",
       "      <td>1</td>\n",
       "      <td>0.000000</td>\n",
       "      <td>1.000000e+00</td>\n",
       "    </tr>\n",
       "    <tr>\n",
       "      <th>1</th>\n",
       "      <td>1986</td>\n",
       "      <td>2</td>\n",
       "      <td>-2.8</td>\n",
       "      <td>1</td>\n",
       "      <td>1</td>\n",
       "      <td>0.500000</td>\n",
       "      <td>8.660254e-01</td>\n",
       "    </tr>\n",
       "    <tr>\n",
       "      <th>2</th>\n",
       "      <td>1986</td>\n",
       "      <td>3</td>\n",
       "      <td>3.2</td>\n",
       "      <td>2</td>\n",
       "      <td>1</td>\n",
       "      <td>0.866025</td>\n",
       "      <td>5.000000e-01</td>\n",
       "    </tr>\n",
       "    <tr>\n",
       "      <th>3</th>\n",
       "      <td>1986</td>\n",
       "      <td>4</td>\n",
       "      <td>10.2</td>\n",
       "      <td>3</td>\n",
       "      <td>1</td>\n",
       "      <td>1.000000</td>\n",
       "      <td>6.123234e-17</td>\n",
       "    </tr>\n",
       "    <tr>\n",
       "      <th>4</th>\n",
       "      <td>1986</td>\n",
       "      <td>5</td>\n",
       "      <td>17.6</td>\n",
       "      <td>4</td>\n",
       "      <td>1</td>\n",
       "      <td>0.866025</td>\n",
       "      <td>-5.000000e-01</td>\n",
       "    </tr>\n",
       "    <tr>\n",
       "      <th>...</th>\n",
       "      <td>...</td>\n",
       "      <td>...</td>\n",
       "      <td>...</td>\n",
       "      <td>...</td>\n",
       "      <td>...</td>\n",
       "      <td>...</td>\n",
       "      <td>...</td>\n",
       "    </tr>\n",
       "    <tr>\n",
       "      <th>415</th>\n",
       "      <td>2020</td>\n",
       "      <td>8</td>\n",
       "      <td>22.2</td>\n",
       "      <td>415</td>\n",
       "      <td>1</td>\n",
       "      <td>-0.500000</td>\n",
       "      <td>-8.660254e-01</td>\n",
       "    </tr>\n",
       "    <tr>\n",
       "      <th>416</th>\n",
       "      <td>2020</td>\n",
       "      <td>9</td>\n",
       "      <td>17.5</td>\n",
       "      <td>416</td>\n",
       "      <td>1</td>\n",
       "      <td>-0.866025</td>\n",
       "      <td>-5.000000e-01</td>\n",
       "    </tr>\n",
       "    <tr>\n",
       "      <th>417</th>\n",
       "      <td>2020</td>\n",
       "      <td>10</td>\n",
       "      <td>11.9</td>\n",
       "      <td>417</td>\n",
       "      <td>1</td>\n",
       "      <td>-1.000000</td>\n",
       "      <td>-1.028765e-14</td>\n",
       "    </tr>\n",
       "    <tr>\n",
       "      <th>418</th>\n",
       "      <td>2020</td>\n",
       "      <td>11</td>\n",
       "      <td>5.3</td>\n",
       "      <td>418</td>\n",
       "      <td>1</td>\n",
       "      <td>-0.866025</td>\n",
       "      <td>5.000000e-01</td>\n",
       "    </tr>\n",
       "    <tr>\n",
       "      <th>419</th>\n",
       "      <td>2020</td>\n",
       "      <td>12</td>\n",
       "      <td>2.9</td>\n",
       "      <td>419</td>\n",
       "      <td>1</td>\n",
       "      <td>-0.500000</td>\n",
       "      <td>8.660254e-01</td>\n",
       "    </tr>\n",
       "  </tbody>\n",
       "</table>\n",
       "<p>420 rows × 7 columns</p>\n",
       "</div>"
      ],
      "text/plain": [
       "     Leto  Mesec  Temperatura  ZaporedniMesec  Ena     Sinus       Kosinus\n",
       "0    1986      1          0.1               0    1  0.000000  1.000000e+00\n",
       "1    1986      2         -2.8               1    1  0.500000  8.660254e-01\n",
       "2    1986      3          3.2               2    1  0.866025  5.000000e-01\n",
       "3    1986      4         10.2               3    1  1.000000  6.123234e-17\n",
       "4    1986      5         17.6               4    1  0.866025 -5.000000e-01\n",
       "..    ...    ...          ...             ...  ...       ...           ...\n",
       "415  2020      8         22.2             415    1 -0.500000 -8.660254e-01\n",
       "416  2020      9         17.5             416    1 -0.866025 -5.000000e-01\n",
       "417  2020     10         11.9             417    1 -1.000000 -1.028765e-14\n",
       "418  2020     11          5.3             418    1 -0.866025  5.000000e-01\n",
       "419  2020     12          2.9             419    1 -0.500000  8.660254e-01\n",
       "\n",
       "[420 rows x 7 columns]"
      ]
     },
     "execution_count": 32,
     "metadata": {},
     "output_type": "execute_result"
    }
   ],
   "source": [
    "TempLJ"
   ]
  },
  {
   "cell_type": "markdown",
   "metadata": {},
   "source": [
    "A del naloge - enostavna linarna regresija za spreminjanje temperature"
   ]
  },
  {
   "cell_type": "code",
   "execution_count": 7,
   "metadata": {},
   "outputs": [],
   "source": [
    "Z = TempLJ[\"ZaporedniMesec\"].to_numpy()\n",
    "T = TempLJ[\"Temperatura\"].to_numpy()"
   ]
  },
  {
   "cell_type": "code",
   "execution_count": 8,
   "metadata": {},
   "outputs": [],
   "source": [
    "rezultat = stats.linregress(Z, T)"
   ]
  },
  {
   "cell_type": "code",
   "execution_count": 28,
   "metadata": {},
   "outputs": [
    {
     "data": {
      "text/plain": [
       "0.06830262238286094"
      ]
     },
     "execution_count": 28,
     "metadata": {},
     "output_type": "execute_result"
    }
   ],
   "source": [
    "rezultat.slope*12"
   ]
  },
  {
   "cell_type": "code",
   "execution_count": 9,
   "metadata": {},
   "outputs": [
    {
     "data": {
      "image/png": "[encoded data removed]",
      "text/plain": [
       "<Figure size 720x216 with 1 Axes>"
      ]
     },
     "metadata": {
      "needs_background": "light"
     },
     "output_type": "display_data"
    }
   ],
   "source": [
    "f = plt.figure()\n",
    "f.set_figwidth(10)\n",
    "f.set_figheight(3)\n",
    "for i in range(n):\n",
    "    plt.plot(TempLJ[\"ZaporedniMesec\"][i], TempLJ[\"Temperatura\"][i], \"limegreen\", marker=\"o\")\n",
    "x = np.linspace(0, 420, 840)\n",
    "plt.plot(x, rezultat.slope*x + rezultat.intercept, color=\"darkgreen\")\n",
    "plt.savefig(\"EnLinReg.png\")"
   ]
  },
  {
   "cell_type": "code",
   "execution_count": 10,
   "metadata": {},
   "outputs": [],
   "source": [
    "SS = 0\n",
    "SR = 0\n",
    "MS = 0\n",
    "MR = 0\n",
    "F = 0\n",
    "\n",
    "for i in range(n):\n",
    "    Tpovp = TempLJ[\"Temperatura\"].mean()\n",
    "    SS += ((rezultat.slope*i + rezultat.intercept) - Tpovp)**2\n",
    "    SR += (TempLJ[\"Temperatura\"][i] - (rezultat.slope*i + rezultat.intercept))**2\n",
    "\n",
    "MS = SS\n",
    "MR = SR/(n-2)\n",
    "F = MS / MR"
   ]
  },
  {
   "cell_type": "code",
   "execution_count": 11,
   "metadata": {},
   "outputs": [
    {
     "data": {
      "text/plain": [
       "3.4962909642275135"
      ]
     },
     "execution_count": 11,
     "metadata": {},
     "output_type": "execute_result"
    }
   ],
   "source": [
    "F"
   ]
  },
  {
   "cell_type": "code",
   "execution_count": 12,
   "metadata": {},
   "outputs": [],
   "source": [
    "p = 0.06221 # dobimo s kalkulatorjem iz spleta"
   ]
  },
  {
   "cell_type": "markdown",
   "metadata": {},
   "source": [
    "B del naloge - model z nihanjem temperature"
   ]
  },
  {
   "cell_type": "code",
   "execution_count": 13,
   "metadata": {},
   "outputs": [],
   "source": [
    "S = TempLJ[\"Sinus\"].to_numpy().reshape([n, 1])\n",
    "C = TempLJ[\"Kosinus\"].to_numpy().reshape([n, 1])\n",
    "X = TempLJ[\"ZaporedniMesec\"].to_numpy().reshape([n, 1])\n",
    "Y = TempLJ[\"Temperatura\"].to_numpy().reshape([n, 1])\n",
    "Z = TempLJ[\"Ena\"].to_numpy().reshape([n, 1])"
   ]
  },
  {
   "cell_type": "code",
   "execution_count": 14,
   "metadata": {},
   "outputs": [],
   "source": [
    "A = np.concatenate((Z, X, S, C), axis=1)"
   ]
  },
  {
   "cell_type": "code",
   "execution_count": 15,
   "metadata": {},
   "outputs": [],
   "source": [
    "B = np.dot(np.dot(np.linalg.inv(np.dot(A.T, A)), A.T), Y)"
   ]
  },
  {
   "cell_type": "code",
   "execution_count": 39,
   "metadata": {},
   "outputs": [
    {
     "data": {
      "text/plain": [
       "array([0.06422445])"
      ]
     },
     "execution_count": 39,
     "metadata": {},
     "output_type": "execute_result"
    }
   ],
   "source": [
    "B[1]*12"
   ]
  },
  {
   "cell_type": "code",
   "execution_count": 17,
   "metadata": {},
   "outputs": [
    {
     "data": {
      "image/png": "[encoded data removed]",
      "text/plain": [
       "<Figure size 720x216 with 1 Axes>"
      ]
     },
     "metadata": {
      "needs_background": "light"
     },
     "output_type": "display_data"
    }
   ],
   "source": [
    "f = plt.figure()\n",
    "f.set_figwidth(10)\n",
    "f.set_figheight(3)\n",
    "plt.plot(np.dot(A, B) + TempLJ['Temperatura'].mean(), color=\"indigo\")\n",
    "plt.plot(Y + TempLJ['Temperatura'].mean(), color=\"dodgerblue\")\n",
    "plt.savefig(\"NihLinReg.png\")"
   ]
  },
  {
   "cell_type": "markdown",
   "metadata": {},
   "source": [
    "C del naloge - napoved za leto 2040 in interval zaupanja"
   ]
  },
  {
   "cell_type": "code",
   "execution_count": 18,
   "metadata": {},
   "outputs": [],
   "source": [
    "Temp2040Lin = 0\n",
    "Temp2040Nih = 0\n",
    "for i in range(12):\n",
    "    Temp2040Lin += rezultat.slope * (648 + i) + rezultat.intercept\n",
    "    Temp2040Nih += B[0]+ B[1]*(648 + i) + B[2]*np.sin(math.pi*(648 + i)/6) + B[3]*np.cos(math.pi*(648 + i)/6)\n",
    "Temp2040Lin = Temp2040Lin/12\n",
    "Temp2040Nih = Temp2040Nih/12"
   ]
  },
  {
   "cell_type": "code",
   "execution_count": 19,
   "metadata": {},
   "outputs": [],
   "source": [
    "TempJan = B[0]+ B[1]*648 + B[2]*np.sin(math.pi*648/6) + B[3]*np.cos(math.pi*648/6)"
   ]
  },
  {
   "cell_type": "code",
   "execution_count": 20,
   "metadata": {},
   "outputs": [
    {
     "data": {
      "text/plain": [
       "(13.783863694832526, array([13.63297137]), array([3.21778426]))"
      ]
     },
     "execution_count": 20,
     "metadata": {},
     "output_type": "execute_result"
    }
   ],
   "source": [
    "Temp2040Lin, Temp2040Nih, TempJan"
   ]
  },
  {
   "cell_type": "code",
   "execution_count": 21,
   "metadata": {},
   "outputs": [],
   "source": [
    "import statsmodels.api as sm"
   ]
  },
  {
   "cell_type": "code",
   "execution_count": 22,
   "metadata": {},
   "outputs": [],
   "source": [
    "tC = TempLJ['Temperatura'].values.tolist()\n",
    "zC = TempLJ[\"ZaporedniMesec\"].values.tolist()\n",
    "mC = TempLJ[\"Leto\"].values.tolist()\n",
    "MC = sm.add_constant(mC)\n",
    "ZC = sm.add_constant(zC)\n",
    "model = sm.OLS(tC, ZC)\n",
    "model2 = sm.OLS(tC, MC)\n",
    "fit = model.fit()\n",
    "fit2 = model2.fit()"
   ]
  },
  {
   "cell_type": "code",
   "execution_count": 23,
   "metadata": {},
   "outputs": [],
   "source": [
    "SSx = 0\n",
    "for i in range(n):\n",
    "    SSx += (TempLJ[\"ZaporedniMesec\"][i] - TempLJ[\"ZaporedniMesec\"].mean())**2"
   ]
  },
  {
   "cell_type": "code",
   "execution_count": 24,
   "metadata": {},
   "outputs": [],
   "source": [
    "SSxl = 0\n",
    "for i in range(n):\n",
    "    SSxl += (TempLJ[\"Leto\"][i] - TempLJ[\"Leto\"].mean())**2"
   ]
  },
  {
   "cell_type": "code",
   "execution_count": 25,
   "metadata": {},
   "outputs": [
    {
     "data": {
      "text/plain": [
       "(array([0.49553924]), array([5.94002928]))"
      ]
     },
     "execution_count": 25,
     "metadata": {},
     "output_type": "execute_result"
    }
   ],
   "source": [
    "(TempJan - 1.96566*np.sqrt(fit.mse_resid)*np.sqrt(1/n + (648 - TempLJ[\"ZaporedniMesec\"].mean())**2/SSx), TempJan + 1.96566*np.sqrt(fit.mse_resid)*np.sqrt(1/n + (648 - TempLJ[\"ZaporedniMesec\"].mean())**2/SSx))"
   ]
  },
  {
   "cell_type": "code",
   "execution_count": 26,
   "metadata": {},
   "outputs": [
    {
     "data": {
      "text/plain": [
       "(9.965539951737806, 17.602187437927245)"
      ]
     },
     "execution_count": 26,
     "metadata": {},
     "output_type": "execute_result"
    }
   ],
   "source": [
    "(Temp2040Lin - 2.036933*np.sqrt(fit2.mse_resid)*np.sqrt(1/34 + (2040 - TempLJ[\"Leto\"].mean())**2/SSxl), Temp2040Lin + 2.036933*np.sqrt(fit2.mse_resid)*np.sqrt(1/34 + (2040 - TempLJ[\"Leto\"].mean())**2/SSxl))"
   ]
  },
  {
   "cell_type": "code",
   "execution_count": null,
   "metadata": {},
   "outputs": [],
   "source": []
  }
 ],
 "metadata": {
  "kernelspec": {
   "display_name": "Python 3.10.5 64-bit",
   "language": "python",
   "name": "python3"
  },
  "language_info": {
   "codemirror_mode": {
    "name": "ipython",
    "version": 3
   },
   "file_extension": ".py",
   "mimetype": "text/x-python",
   "name": "python",
   "nbconvert_exporter": "python",
   "pygments_lexer": "ipython3",
   "version": "3.10.5"
  },
  "orig_nbformat": 4,
  "vscode": {
   "interpreter": {
    "hash": "3d7c55432ef9c27002522a2f3bb7bb6db1476d8b901f1b719f3c4e18bae18a49"
   }
  }
 },
 "nbformat": 4,
 "nbformat_minor": 2
}
