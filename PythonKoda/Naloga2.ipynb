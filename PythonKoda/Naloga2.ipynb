{
 "cells": [
  {
   "cell_type": "code",
   "execution_count": 85,
   "metadata": {},
   "outputs": [],
   "source": [
    "import pandas as pd\n",
    "import math"
   ]
  },
  {
   "cell_type": "code",
   "execution_count": 86,
   "metadata": {},
   "outputs": [],
   "source": [
    "TempPulz = pd.read_csv(\"../Podatki/TempPulz.csv\")"
   ]
  },
  {
   "cell_type": "code",
   "execution_count": 87,
   "metadata": {},
   "outputs": [],
   "source": [
    "TempPulz.rename(columns={\"TEMPERATURA\": \"Kelvin\", \"SPOL\": \"Spol\", \"PULZ\": \"Pulz\"}, inplace=True)"
   ]
  },
  {
   "cell_type": "code",
   "execution_count": 88,
   "metadata": {},
   "outputs": [],
   "source": [
    "Naslovi = [\"Spol\", \"Pulz\", \"Kelvin\", \"Celzij\"]\n",
    "TempPulz = TempPulz.reindex(columns=Naslovi)"
   ]
  },
  {
   "cell_type": "code",
   "execution_count": 89,
   "metadata": {},
   "outputs": [],
   "source": [
    "TempPulz[\"Celzij\"] = TempPulz[\"Kelvin\"].apply(lambda x: 5*(x - 32)/9)"
   ]
  },
  {
   "cell_type": "code",
   "execution_count": 90,
   "metadata": {},
   "outputs": [
    {
     "data": {
      "text/html": [
       "<div>\n",
       "<style scoped>\n",
       "    .dataframe tbody tr th:only-of-type {\n",
       "        vertical-align: middle;\n",
       "    }\n",
       "\n",
       "    .dataframe tbody tr th {\n",
       "        vertical-align: top;\n",
       "    }\n",
       "\n",
       "    .dataframe thead th {\n",
       "        text-align: right;\n",
       "    }\n",
       "</style>\n",
       "<table border=\"1\" class=\"dataframe\">\n",
       "  <thead>\n",
       "    <tr style=\"text-align: right;\">\n",
       "      <th></th>\n",
       "      <th>Spol</th>\n",
       "      <th>Pulz</th>\n",
       "      <th>Kelvin</th>\n",
       "      <th>Celzij</th>\n",
       "    </tr>\n",
       "  </thead>\n",
       "  <tbody>\n",
       "    <tr>\n",
       "      <th>0</th>\n",
       "      <td>1</td>\n",
       "      <td>70</td>\n",
       "      <td>96.3</td>\n",
       "      <td>35.722222</td>\n",
       "    </tr>\n",
       "    <tr>\n",
       "      <th>1</th>\n",
       "      <td>1</td>\n",
       "      <td>71</td>\n",
       "      <td>96.7</td>\n",
       "      <td>35.944444</td>\n",
       "    </tr>\n",
       "    <tr>\n",
       "      <th>2</th>\n",
       "      <td>1</td>\n",
       "      <td>74</td>\n",
       "      <td>96.9</td>\n",
       "      <td>36.055556</td>\n",
       "    </tr>\n",
       "    <tr>\n",
       "      <th>3</th>\n",
       "      <td>1</td>\n",
       "      <td>80</td>\n",
       "      <td>97.0</td>\n",
       "      <td>36.111111</td>\n",
       "    </tr>\n",
       "    <tr>\n",
       "      <th>4</th>\n",
       "      <td>1</td>\n",
       "      <td>73</td>\n",
       "      <td>97.1</td>\n",
       "      <td>36.166667</td>\n",
       "    </tr>\n",
       "    <tr>\n",
       "      <th>...</th>\n",
       "      <td>...</td>\n",
       "      <td>...</td>\n",
       "      <td>...</td>\n",
       "      <td>...</td>\n",
       "    </tr>\n",
       "    <tr>\n",
       "      <th>125</th>\n",
       "      <td>2</td>\n",
       "      <td>68</td>\n",
       "      <td>99.3</td>\n",
       "      <td>37.388889</td>\n",
       "    </tr>\n",
       "    <tr>\n",
       "      <th>126</th>\n",
       "      <td>2</td>\n",
       "      <td>77</td>\n",
       "      <td>99.4</td>\n",
       "      <td>37.444444</td>\n",
       "    </tr>\n",
       "    <tr>\n",
       "      <th>127</th>\n",
       "      <td>2</td>\n",
       "      <td>79</td>\n",
       "      <td>99.9</td>\n",
       "      <td>37.722222</td>\n",
       "    </tr>\n",
       "    <tr>\n",
       "      <th>128</th>\n",
       "      <td>2</td>\n",
       "      <td>78</td>\n",
       "      <td>100.0</td>\n",
       "      <td>37.777778</td>\n",
       "    </tr>\n",
       "    <tr>\n",
       "      <th>129</th>\n",
       "      <td>2</td>\n",
       "      <td>77</td>\n",
       "      <td>100.8</td>\n",
       "      <td>38.222222</td>\n",
       "    </tr>\n",
       "  </tbody>\n",
       "</table>\n",
       "<p>130 rows × 4 columns</p>\n",
       "</div>"
      ],
      "text/plain": [
       "     Spol  Pulz  Kelvin     Celzij\n",
       "0       1    70    96.3  35.722222\n",
       "1       1    71    96.7  35.944444\n",
       "2       1    74    96.9  36.055556\n",
       "3       1    80    97.0  36.111111\n",
       "4       1    73    97.1  36.166667\n",
       "..    ...   ...     ...        ...\n",
       "125     2    68    99.3  37.388889\n",
       "126     2    77    99.4  37.444444\n",
       "127     2    79    99.9  37.722222\n",
       "128     2    78   100.0  37.777778\n",
       "129     2    77   100.8  38.222222\n",
       "\n",
       "[130 rows x 4 columns]"
      ]
     },
     "execution_count": 90,
     "metadata": {},
     "output_type": "execute_result"
    }
   ],
   "source": [
    "TempPulz"
   ]
  },
  {
   "cell_type": "code",
   "execution_count": 91,
   "metadata": {},
   "outputs": [],
   "source": [
    "Moski = TempPulz[TempPulz.Spol == 1].reset_index(drop=True)\n",
    "Zenske = TempPulz[TempPulz.Spol == 2].reset_index(drop=True)"
   ]
  },
  {
   "cell_type": "code",
   "execution_count": 92,
   "metadata": {},
   "outputs": [],
   "source": [
    "m = len(Moski)\n",
    "z = len(Zenske)"
   ]
  },
  {
   "cell_type": "markdown",
   "metadata": {},
   "source": [
    "A del naloge - posebaj pri ženskah in moških oceni povprečje in standardni odklon telesne temperature."
   ]
  },
  {
   "cell_type": "code",
   "execution_count": 93,
   "metadata": {},
   "outputs": [],
   "source": [
    "PovprecjeM = Moski.Celzij.mean()\n",
    "PovprecjeZ = Zenske.Celzij.mean()\n",
    "StandardniOdklonM = Moski.Celzij.std()\n",
    "StandardniOdklonZ = Zenske.Celzij.std()"
   ]
  },
  {
   "cell_type": "code",
   "execution_count": 94,
   "metadata": {},
   "outputs": [
    {
     "data": {
      "text/plain": [
       "36.72478632478632"
      ]
     },
     "execution_count": 94,
     "metadata": {},
     "output_type": "execute_result"
    }
   ],
   "source": [
    "PovprecjeM"
   ]
  },
  {
   "cell_type": "code",
   "execution_count": 95,
   "metadata": {},
   "outputs": [
    {
     "data": {
      "text/plain": [
       "36.88547008547008"
      ]
     },
     "execution_count": 95,
     "metadata": {},
     "output_type": "execute_result"
    }
   ],
   "source": [
    "PovprecjeZ"
   ]
  },
  {
   "cell_type": "code",
   "execution_count": 96,
   "metadata": {},
   "outputs": [
    {
     "data": {
      "text/plain": [
       "0.38819764573699506"
      ]
     },
     "execution_count": 96,
     "metadata": {},
     "output_type": "execute_result"
    }
   ],
   "source": [
    "StandardniOdklonM"
   ]
  },
  {
   "cell_type": "code",
   "execution_count": 97,
   "metadata": {},
   "outputs": [
    {
     "data": {
      "text/plain": [
       "0.41304875151742626"
      ]
     },
     "execution_count": 97,
     "metadata": {},
     "output_type": "execute_result"
    }
   ],
   "source": [
    "StandardniOdklonZ"
   ]
  },
  {
   "cell_type": "markdown",
   "metadata": {},
   "source": [
    "B del naloge - Določi 95% interval zaupanja za povprečji iz prejšnje točke. https://www.statology.org/inverse-t-distribution-calculator/ za 95% IZ."
   ]
  },
  {
   "cell_type": "code",
   "execution_count": 98,
   "metadata": {},
   "outputs": [],
   "source": [
    "IntervalM = (PovprecjeM - 1.9977 * StandardniOdklonM/math.sqrt(m), PovprecjeM + 1.9977 * StandardniOdklonM/math.sqrt(m))\n",
    "IntervalZ = (PovprecjeZ - 1.9977 * StandardniOdklonZ/math.sqrt(z), PovprecjeZ + 1.9977 * StandardniOdklonZ/math.sqrt(z))"
   ]
  },
  {
   "cell_type": "code",
   "execution_count": 99,
   "metadata": {},
   "outputs": [
    {
     "data": {
      "text/plain": [
       "(36.628597085853535, 36.82097556371911)"
      ]
     },
     "execution_count": 99,
     "metadata": {},
     "output_type": "execute_result"
    }
   ],
   "source": [
    "IntervalM"
   ]
  },
  {
   "cell_type": "code",
   "execution_count": 100,
   "metadata": {},
   "outputs": [
    {
     "data": {
      "text/plain": [
       "(36.78312313543856, 36.98781703550161)"
      ]
     },
     "execution_count": 100,
     "metadata": {},
     "output_type": "execute_result"
    }
   ],
   "source": [
    "IntervalZ"
   ]
  },
  {
   "cell_type": "markdown",
   "metadata": {},
   "source": [
    "C del naloge - testiraj hipotezo, da imajo moški in ženske v povprečju enako telestno temperaturo. H0 - Moški in ženske imajo v povprečju enako telesno temperaturo, torej miM = miZ. \n",
    "H1 - Moški nimajo v povprečju enake temperature kot ženske, torej miM =/= miZ. Testiramo tako za alfa = 0.05 in alfa = 0.01. Pri alfa = 0.05, je za dvostranski interval za Stud(m + z - 2) vrednost 1.9787, za alfa = 0.01 pa je 2.6148."
   ]
  },
  {
   "cell_type": "code",
   "execution_count": 101,
   "metadata": {},
   "outputs": [],
   "source": [
    "S = 0\n",
    "for i in range(65):\n",
    "    S += ((Moski[\"Celzij\"][i] - PovprecjeM)**2 + (Zenske[\"Celzij\"][i] - PovprecjeZ)**2)\n",
    "S = math.sqrt(S/(m + z - 2))\n",
    "    "
   ]
  },
  {
   "cell_type": "code",
   "execution_count": 102,
   "metadata": {},
   "outputs": [],
   "source": [
    "IntervalAlfa95 = (-(1.9787 * S * math.sqrt(m + z)/math.sqrt(m*z)), 1.9787 * S * math.sqrt(m + z)/math.sqrt(m*z))\n",
    "IntervalAlfa99 = (-(2.6148 * S * math.sqrt(m + z)/math.sqrt(m*z)), 2.6148 * S * math.sqrt(m + z)/math.sqrt(m*z))"
   ]
  },
  {
   "cell_type": "code",
   "execution_count": 103,
   "metadata": {},
   "outputs": [
    {
     "data": {
      "text/plain": [
       "(-0.13911794538650596, 0.13911794538650596)"
      ]
     },
     "execution_count": 103,
     "metadata": {},
     "output_type": "execute_result"
    }
   ],
   "source": [
    "IntervalAlfa95"
   ]
  },
  {
   "cell_type": "code",
   "execution_count": 104,
   "metadata": {},
   "outputs": [
    {
     "data": {
      "text/plain": [
       "(-0.18384070530986799, 0.18384070530986799)"
      ]
     },
     "execution_count": 104,
     "metadata": {},
     "output_type": "execute_result"
    }
   ],
   "source": [
    "IntervalAlfa99"
   ]
  },
  {
   "cell_type": "code",
   "execution_count": 105,
   "metadata": {},
   "outputs": [
    {
     "data": {
      "text/plain": [
       "-0.1606837606837601"
      ]
     },
     "execution_count": 105,
     "metadata": {},
     "output_type": "execute_result"
    }
   ],
   "source": [
    "PovprecjeM - PovprecjeZ"
   ]
  },
  {
   "cell_type": "markdown",
   "metadata": {},
   "source": [
    "V primeru alfa = 0.05 bomo hipotezo zavrgli, v primeru alfa = 0.01 pa jo bomo obdržali."
   ]
  }
 ],
 "metadata": {
  "kernelspec": {
   "display_name": "Python 3.10.5 64-bit",
   "language": "python",
   "name": "python3"
  },
  "language_info": {
   "codemirror_mode": {
    "name": "ipython",
    "version": 3
   },
   "file_extension": ".py",
   "mimetype": "text/x-python",
   "name": "python",
   "nbconvert_exporter": "python",
   "pygments_lexer": "ipython3",
   "version": "3.10.5"
  },
  "orig_nbformat": 4,
  "vscode": {
   "interpreter": {
    "hash": "3d7c55432ef9c27002522a2f3bb7bb6db1476d8b901f1b719f3c4e18bae18a49"
   }
  }
 },
 "nbformat": 4,
 "nbformat_minor": 2
}
